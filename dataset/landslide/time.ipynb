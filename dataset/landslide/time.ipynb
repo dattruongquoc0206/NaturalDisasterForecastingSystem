{
 "cells": [
  {
   "cell_type": "code",
   "execution_count": null,
   "metadata": {},
   "outputs": [],
   "source": [
    "import time \n",
    "import datetime\n",
    "import warnings\n",
    "import pandas as pd\n",
    "import numpy as np\n",
    "from numpy import absolute\n",
    "pd.options.display.max_columns = None\n",
    "pd.options.display.max_rows = None\n",
    "pd.options.display.width = 1000\n",
    "from sklearn.preprocessing import OrdinalEncoder, LabelEncoder, MaxAbsScaler, MinMaxScaler\n",
    "from sklearn.model_selection import train_test_split, cross_val_score, RepeatedKFold, GridSearchCV\n",
    "from sklearn.metrics import precision_recall_fscore_support, mean_squared_error\n",
    "import joblib\n",
    "import xgboost as xgb\n",
    "from xgboost import XGBRegressor\n",
    "from datetime import datetime\n",
    "from datetime import datetime\n"
   ]
  },
  {
   "cell_type": "code",
   "execution_count": 55,
   "metadata": {},
   "outputs": [
    {
     "data": {
      "text/html": [
       "<div>\n",
       "<style scoped>\n",
       "    .dataframe tbody tr th:only-of-type {\n",
       "        vertical-align: middle;\n",
       "    }\n",
       "\n",
       "    .dataframe tbody tr th {\n",
       "        vertical-align: top;\n",
       "    }\n",
       "\n",
       "    .dataframe thead th {\n",
       "        text-align: right;\n",
       "    }\n",
       "</style>\n",
       "<table border=\"1\" class=\"dataframe\">\n",
       "  <thead>\n",
       "    <tr style=\"text-align: right;\">\n",
       "      <th></th>\n",
       "      <th>Unnamed: 0.1</th>\n",
       "      <th>Unnamed: 0</th>\n",
       "      <th>event_date</th>\n",
       "      <th>event_title</th>\n",
       "      <th>event_description</th>\n",
       "      <th>location_description</th>\n",
       "      <th>location_accuracy</th>\n",
       "      <th>landslide_category</th>\n",
       "      <th>landslide_trigger</th>\n",
       "      <th>landslide_size</th>\n",
       "      <th>landslide_setting</th>\n",
       "      <th>fatality_count</th>\n",
       "      <th>injury_count</th>\n",
       "      <th>country_name</th>\n",
       "      <th>admin_division_name</th>\n",
       "      <th>admin_division_population</th>\n",
       "      <th>gazeteer_closest_point</th>\n",
       "      <th>gazeteer_distance</th>\n",
       "      <th>longitude</th>\n",
       "      <th>latitude</th>\n",
       "      <th>tempmax</th>\n",
       "      <th>tempmin</th>\n",
       "      <th>temp</th>\n",
       "      <th>feelslikemax</th>\n",
       "      <th>feelslikemin</th>\n",
       "      <th>feelslike</th>\n",
       "      <th>dew</th>\n",
       "      <th>humidity</th>\n",
       "      <th>precip</th>\n",
       "      <th>precipcover</th>\n",
       "      <th>windgust</th>\n",
       "      <th>windspeed</th>\n",
       "      <th>winddir</th>\n",
       "      <th>pressure</th>\n",
       "      <th>cloudcover</th>\n",
       "      <th>visibility</th>\n",
       "      <th>moonphase</th>\n",
       "      <th>conditions</th>\n",
       "      <th>stations</th>\n",
       "      <th>elevation</th>\n",
       "      <th>continent</th>\n",
       "      <th>season</th>\n",
       "      <th>treecover2000</th>\n",
       "      <th>loss</th>\n",
       "      <th>gain</th>\n",
       "      <th>soil_texture_0</th>\n",
       "      <th>soil_texture_10</th>\n",
       "      <th>soil_texture_30</th>\n",
       "      <th>soil_texture_60</th>\n",
       "      <th>soil_texture_100</th>\n",
       "      <th>soil_texture_200</th>\n",
       "      <th>population_density_2000</th>\n",
       "      <th>population_density_2005</th>\n",
       "      <th>population_density_2010</th>\n",
       "      <th>population_density_2015</th>\n",
       "      <th>population_density_2020</th>\n",
       "    </tr>\n",
       "  </thead>\n",
       "  <tbody>\n",
       "    <tr>\n",
       "      <th>0</th>\n",
       "      <td>0</td>\n",
       "      <td>0</td>\n",
       "      <td>1988-11-07 00:00:00</td>\n",
       "      <td>Sta. Rosa del Sur</td>\n",
       "      <td>He recalled that on Nov.7, 1988, 18 families w...</td>\n",
       "      <td>Sta. Rosa del Sur</td>\n",
       "      <td>25km</td>\n",
       "      <td>landslide</td>\n",
       "      <td>continuous_rain</td>\n",
       "      <td>medium</td>\n",
       "      <td>unknown</td>\n",
       "      <td>0.0</td>\n",
       "      <td>0.0</td>\n",
       "      <td>Philippines</td>\n",
       "      <td>Bicol</td>\n",
       "      <td>10531</td>\n",
       "      <td>Pasacao</td>\n",
       "      <td>1.16205</td>\n",
       "      <td>123.0319</td>\n",
       "      <td>13.5107</td>\n",
       "      <td>27.6</td>\n",
       "      <td>24.1</td>\n",
       "      <td>26.4</td>\n",
       "      <td>31.2</td>\n",
       "      <td>24.1</td>\n",
       "      <td>28.5</td>\n",
       "      <td>23.7</td>\n",
       "      <td>85.49</td>\n",
       "      <td>87.00</td>\n",
       "      <td>66.67</td>\n",
       "      <td>50.955865</td>\n",
       "      <td>50.4</td>\n",
       "      <td>161.7</td>\n",
       "      <td>1004.8</td>\n",
       "      <td>100.0</td>\n",
       "      <td>8.3</td>\n",
       "      <td>0.98</td>\n",
       "      <td>Rain, Overcast</td>\n",
       "      <td>['98440099999']</td>\n",
       "      <td>42.0</td>\n",
       "      <td>Asia</td>\n",
       "      <td>autumn</td>\n",
       "      <td>97</td>\n",
       "      <td>0.0</td>\n",
       "      <td>0</td>\n",
       "      <td>Cl</td>\n",
       "      <td>Cl</td>\n",
       "      <td>Cl</td>\n",
       "      <td>Cl</td>\n",
       "      <td>Cl</td>\n",
       "      <td>Cl</td>\n",
       "      <td>542.317627</td>\n",
       "      <td>672.570496</td>\n",
       "      <td>801.507996</td>\n",
       "      <td>944.788940</td>\n",
       "      <td>1095.986572</td>\n",
       "    </tr>\n",
       "    <tr>\n",
       "      <th>1</th>\n",
       "      <td>1</td>\n",
       "      <td>1</td>\n",
       "      <td>1993-06-04 06:00:00</td>\n",
       "      <td>Holbeck Hall Hotel</td>\n",
       "      <td>The first signs of movement on the cliff were ...</td>\n",
       "      <td>Holbeck Hall Hotel</td>\n",
       "      <td>1km</td>\n",
       "      <td>other</td>\n",
       "      <td>rain</td>\n",
       "      <td>medium</td>\n",
       "      <td>deforested_slope</td>\n",
       "      <td>0.0</td>\n",
       "      <td>0.0</td>\n",
       "      <td>United Kingdom</td>\n",
       "      <td>England</td>\n",
       "      <td>38909</td>\n",
       "      <td>Scarborough</td>\n",
       "      <td>1.64675</td>\n",
       "      <td>-0.3913</td>\n",
       "      <td>54.2670</td>\n",
       "      <td>16.3</td>\n",
       "      <td>7.9</td>\n",
       "      <td>12.2</td>\n",
       "      <td>16.3</td>\n",
       "      <td>6.2</td>\n",
       "      <td>11.9</td>\n",
       "      <td>9.0</td>\n",
       "      <td>81.30</td>\n",
       "      <td>0.00</td>\n",
       "      <td>0.00</td>\n",
       "      <td>50.955865</td>\n",
       "      <td>17.5</td>\n",
       "      <td>163.0</td>\n",
       "      <td>1020.8</td>\n",
       "      <td>68.5</td>\n",
       "      <td>18.0</td>\n",
       "      <td>0.50</td>\n",
       "      <td>Partially cloudy</td>\n",
       "      <td>['03292099999', '03384099999', '03257099999', ...</td>\n",
       "      <td>59.0</td>\n",
       "      <td>Europe</td>\n",
       "      <td>spring</td>\n",
       "      <td>0</td>\n",
       "      <td>0.0</td>\n",
       "      <td>0</td>\n",
       "      <td>SaLo</td>\n",
       "      <td>SaLo</td>\n",
       "      <td>SaLo</td>\n",
       "      <td>SaLo</td>\n",
       "      <td>SaLo</td>\n",
       "      <td>SaLo</td>\n",
       "      <td>1373.713623</td>\n",
       "      <td>1372.173340</td>\n",
       "      <td>1394.869263</td>\n",
       "      <td>1403.645020</td>\n",
       "      <td>1409.767212</td>\n",
       "    </tr>\n",
       "    <tr>\n",
       "      <th>2</th>\n",
       "      <td>2</td>\n",
       "      <td>2</td>\n",
       "      <td>1995-08-14 00:00:00</td>\n",
       "      <td>Caux : 50 000 m3 of debris flows</td>\n",
       "      <td>50 000 m3 of debris flows</td>\n",
       "      <td>Vaud, Switzerland</td>\n",
       "      <td>10km</td>\n",
       "      <td>debris_flow</td>\n",
       "      <td>downpour</td>\n",
       "      <td>large</td>\n",
       "      <td>unknown</td>\n",
       "      <td>0.0</td>\n",
       "      <td>0.0</td>\n",
       "      <td>Switzerland</td>\n",
       "      <td>Vaud</td>\n",
       "      <td>2000</td>\n",
       "      <td>Caux</td>\n",
       "      <td>4.92572</td>\n",
       "      <td>6.9932</td>\n",
       "      <td>46.4093</td>\n",
       "      <td>25.1</td>\n",
       "      <td>13.1</td>\n",
       "      <td>19.5</td>\n",
       "      <td>25.1</td>\n",
       "      <td>13.1</td>\n",
       "      <td>19.5</td>\n",
       "      <td>13.5</td>\n",
       "      <td>71.05</td>\n",
       "      <td>4.37</td>\n",
       "      <td>4.17</td>\n",
       "      <td>50.955865</td>\n",
       "      <td>14.8</td>\n",
       "      <td>151.8</td>\n",
       "      <td>1016.4</td>\n",
       "      <td>26.2</td>\n",
       "      <td>12.0</td>\n",
       "      <td>0.59</td>\n",
       "      <td>Rain, Partially cloudy</td>\n",
       "      <td>['06712099999', '06628099999', '06610099999', ...</td>\n",
       "      <td>1845.0</td>\n",
       "      <td>Europe</td>\n",
       "      <td>summer</td>\n",
       "      <td>66</td>\n",
       "      <td>0.0</td>\n",
       "      <td>0</td>\n",
       "      <td>Lo</td>\n",
       "      <td>Lo</td>\n",
       "      <td>Lo</td>\n",
       "      <td>Lo</td>\n",
       "      <td>Lo</td>\n",
       "      <td>Lo</td>\n",
       "      <td>130.772888</td>\n",
       "      <td>142.286316</td>\n",
       "      <td>158.012466</td>\n",
       "      <td>175.659775</td>\n",
       "      <td>191.833191</td>\n",
       "    </tr>\n",
       "    <tr>\n",
       "      <th>3</th>\n",
       "      <td>3</td>\n",
       "      <td>3</td>\n",
       "      <td>1996-12-26 00:00:00</td>\n",
       "      <td>Western Columbia River Gorge</td>\n",
       "      <td>The western part of the Columbia Gorge on the ...</td>\n",
       "      <td>Western Columbia River Gorge</td>\n",
       "      <td>50km</td>\n",
       "      <td>debris_flow</td>\n",
       "      <td>freeze_thaw</td>\n",
       "      <td>small</td>\n",
       "      <td>above_river</td>\n",
       "      <td>0.0</td>\n",
       "      <td>0.0</td>\n",
       "      <td>United States</td>\n",
       "      <td>Oregon</td>\n",
       "      <td>1144</td>\n",
       "      <td>Cascade Locks</td>\n",
       "      <td>19.22137</td>\n",
       "      <td>-122.0991</td>\n",
       "      <td>45.5775</td>\n",
       "      <td>1.7</td>\n",
       "      <td>-0.7</td>\n",
       "      <td>0.1</td>\n",
       "      <td>1.7</td>\n",
       "      <td>-7.8</td>\n",
       "      <td>-3.5</td>\n",
       "      <td>-1.3</td>\n",
       "      <td>90.30</td>\n",
       "      <td>24.90</td>\n",
       "      <td>66.67</td>\n",
       "      <td>50.955865</td>\n",
       "      <td>37.1</td>\n",
       "      <td>98.0</td>\n",
       "      <td>997.6</td>\n",
       "      <td>100.0</td>\n",
       "      <td>10.0</td>\n",
       "      <td>0.52</td>\n",
       "      <td>Rain, Overcast</td>\n",
       "      <td>['72698599999', '72698024229']</td>\n",
       "      <td>437.0</td>\n",
       "      <td>North America</td>\n",
       "      <td>winter</td>\n",
       "      <td>90</td>\n",
       "      <td>0.0</td>\n",
       "      <td>0</td>\n",
       "      <td>Lo</td>\n",
       "      <td>Lo</td>\n",
       "      <td>Lo</td>\n",
       "      <td>Lo</td>\n",
       "      <td>SaLo</td>\n",
       "      <td>SaLo</td>\n",
       "      <td>0.545411</td>\n",
       "      <td>0.576050</td>\n",
       "      <td>0.606166</td>\n",
       "      <td>0.630767</td>\n",
       "      <td>0.652751</td>\n",
       "    </tr>\n",
       "    <tr>\n",
       "      <th>4</th>\n",
       "      <td>4</td>\n",
       "      <td>4</td>\n",
       "      <td>1996-12-26 00:00:00</td>\n",
       "      <td>Western Columbia River Gorge</td>\n",
       "      <td>The western part of the Columbia Gorge on the ...</td>\n",
       "      <td>Western Columbia River Gorge</td>\n",
       "      <td>50km</td>\n",
       "      <td>debris_flow</td>\n",
       "      <td>freeze_thaw</td>\n",
       "      <td>small</td>\n",
       "      <td>above_road</td>\n",
       "      <td>0.0</td>\n",
       "      <td>0.0</td>\n",
       "      <td>United States</td>\n",
       "      <td>Oregon</td>\n",
       "      <td>14095</td>\n",
       "      <td>Washougal</td>\n",
       "      <td>13.82547</td>\n",
       "      <td>-122.1828</td>\n",
       "      <td>45.5492</td>\n",
       "      <td>1.7</td>\n",
       "      <td>-0.7</td>\n",
       "      <td>0.1</td>\n",
       "      <td>1.7</td>\n",
       "      <td>-7.9</td>\n",
       "      <td>-3.5</td>\n",
       "      <td>-1.3</td>\n",
       "      <td>90.29</td>\n",
       "      <td>24.90</td>\n",
       "      <td>66.67</td>\n",
       "      <td>50.955865</td>\n",
       "      <td>37.1</td>\n",
       "      <td>97.9</td>\n",
       "      <td>997.6</td>\n",
       "      <td>100.0</td>\n",
       "      <td>9.9</td>\n",
       "      <td>0.52</td>\n",
       "      <td>Rain, Overcast</td>\n",
       "      <td>['72698599999', '72698024229']</td>\n",
       "      <td>248.0</td>\n",
       "      <td>North America</td>\n",
       "      <td>winter</td>\n",
       "      <td>98</td>\n",
       "      <td>0.0</td>\n",
       "      <td>0</td>\n",
       "      <td>Lo</td>\n",
       "      <td>Lo</td>\n",
       "      <td>Lo</td>\n",
       "      <td>Lo</td>\n",
       "      <td>Lo</td>\n",
       "      <td>Lo</td>\n",
       "      <td>6.077988</td>\n",
       "      <td>6.419422</td>\n",
       "      <td>6.755037</td>\n",
       "      <td>7.029181</td>\n",
       "      <td>7.274169</td>\n",
       "    </tr>\n",
       "  </tbody>\n",
       "</table>\n",
       "</div>"
      ],
      "text/plain": [
       "   Unnamed: 0.1  Unnamed: 0          event_date                       event_title                                  event_description          location_description location_accuracy landslide_category landslide_trigger landslide_size landslide_setting  fatality_count  injury_count    country_name admin_division_name  admin_division_population gazeteer_closest_point  gazeteer_distance  longitude  latitude  tempmax  tempmin  temp  feelslikemax  feelslikemin  feelslike   dew  humidity  precip  precipcover   windgust  windspeed  winddir  pressure  cloudcover  visibility  moonphase              conditions                                           stations  elevation      continent  season  treecover2000  loss  gain soil_texture_0 soil_texture_10 soil_texture_30 soil_texture_60 soil_texture_100 soil_texture_200  population_density_2000  population_density_2005  population_density_2010  population_density_2015  population_density_2020\n",
       "0             0           0 1988-11-07 00:00:00                 Sta. Rosa del Sur  He recalled that on Nov.7, 1988, 18 families w...             Sta. Rosa del Sur              25km          landslide   continuous_rain         medium           unknown             0.0           0.0     Philippines               Bicol                      10531                Pasacao            1.16205   123.0319   13.5107     27.6     24.1  26.4          31.2          24.1       28.5  23.7     85.49   87.00        66.67  50.955865       50.4    161.7    1004.8       100.0         8.3       0.98          Rain, Overcast                                    ['98440099999']       42.0           Asia  autumn             97   0.0     0             Cl              Cl              Cl              Cl               Cl               Cl               542.317627               672.570496               801.507996               944.788940              1095.986572\n",
       "1             1           1 1993-06-04 06:00:00                Holbeck Hall Hotel  The first signs of movement on the cliff were ...            Holbeck Hall Hotel               1km              other              rain         medium  deforested_slope             0.0           0.0  United Kingdom             England                      38909            Scarborough            1.64675    -0.3913   54.2670     16.3      7.9  12.2          16.3           6.2       11.9   9.0     81.30    0.00         0.00  50.955865       17.5    163.0    1020.8        68.5        18.0       0.50        Partially cloudy  ['03292099999', '03384099999', '03257099999', ...       59.0         Europe  spring              0   0.0     0           SaLo            SaLo            SaLo            SaLo             SaLo             SaLo              1373.713623              1372.173340              1394.869263              1403.645020              1409.767212\n",
       "2             2           2 1995-08-14 00:00:00  Caux : 50 000 m3 of debris flows                          50 000 m3 of debris flows             Vaud, Switzerland              10km        debris_flow          downpour          large           unknown             0.0           0.0     Switzerland                Vaud                       2000                   Caux            4.92572     6.9932   46.4093     25.1     13.1  19.5          25.1          13.1       19.5  13.5     71.05    4.37         4.17  50.955865       14.8    151.8    1016.4        26.2        12.0       0.59  Rain, Partially cloudy  ['06712099999', '06628099999', '06610099999', ...     1845.0         Europe  summer             66   0.0     0             Lo              Lo              Lo              Lo               Lo               Lo               130.772888               142.286316               158.012466               175.659775               191.833191\n",
       "3             3           3 1996-12-26 00:00:00      Western Columbia River Gorge  The western part of the Columbia Gorge on the ...  Western Columbia River Gorge              50km        debris_flow       freeze_thaw          small       above_river             0.0           0.0   United States              Oregon                       1144          Cascade Locks           19.22137  -122.0991   45.5775      1.7     -0.7   0.1           1.7          -7.8       -3.5  -1.3     90.30   24.90        66.67  50.955865       37.1     98.0     997.6       100.0        10.0       0.52          Rain, Overcast                     ['72698599999', '72698024229']      437.0  North America  winter             90   0.0     0             Lo              Lo              Lo              Lo             SaLo             SaLo                 0.545411                 0.576050                 0.606166                 0.630767                 0.652751\n",
       "4             4           4 1996-12-26 00:00:00      Western Columbia River Gorge  The western part of the Columbia Gorge on the ...  Western Columbia River Gorge              50km        debris_flow       freeze_thaw          small        above_road             0.0           0.0   United States              Oregon                      14095              Washougal           13.82547  -122.1828   45.5492      1.7     -0.7   0.1           1.7          -7.9       -3.5  -1.3     90.29   24.90        66.67  50.955865       37.1     97.9     997.6       100.0         9.9       0.52          Rain, Overcast                     ['72698599999', '72698024229']      248.0  North America  winter             98   0.0     0             Lo              Lo              Lo              Lo               Lo               Lo                 6.077988                 6.419422                 6.755037                 7.029181                 7.274169"
      ]
     },
     "execution_count": 55,
     "metadata": {},
     "output_type": "execute_result"
    }
   ],
   "source": [
    "df = pd.read_csv(\"data.csv\", parse_dates=[\"event_date\"])\n",
    "df[\"event_description\"].fillna(\"\", inplace=True)\n",
    "df.head(5)"
   ]
  },
  {
   "cell_type": "code",
   "execution_count": 186,
   "metadata": {},
   "outputs": [],
   "source": [
    "def get_time_stamp(x):\n",
    "    return int(time.mktime(datetime.strptime(str(x), '%Y-%m-%d %H:%M:%S').timetuple()))\n",
    "def get_date_time(x):\n",
    "    return datetime.fromtimestamp(x).isoformat(\" \")"
   ]
  },
  {
   "cell_type": "code",
   "execution_count": 207,
   "metadata": {},
   "outputs": [],
   "source": [
    "df = pd.read_csv(\"vn.csv\", parse_dates= [\"event_date\"])"
   ]
  },
  {
   "cell_type": "code",
   "execution_count": 210,
   "metadata": {},
   "outputs": [],
   "source": [
    "# x,y = train_test_split(df[[\"event_date\",\"longitude\",\"latitude\"]], train_size = 0.8, test_size = 0.2, random_state = 0)"
   ]
  },
  {
   "cell_type": "code",
   "execution_count": 214,
   "metadata": {},
   "outputs": [],
   "source": [
    "# x.to_csv(\"vn_train_timestamp.csv\")\n",
    "# y.to_csv(\"vn_test_timestamp.csv\")"
   ]
  },
  {
   "cell_type": "code",
   "execution_count": 137,
   "metadata": {},
   "outputs": [
    {
     "name": "stdout",
     "output_type": "stream",
     "text": [
      "(84,) (21,) (84,) (21,)\n",
      "The best hyperparameters are  {'learning_rate': 0.002, 'max_depth': 6, 'n_estimators': 700}\n"
     ]
    },
    {
     "data": {
      "text/plain": [
       "1.4961557379214567"
      ]
     },
     "execution_count": 137,
     "metadata": {},
     "output_type": "execute_result"
    }
   ],
   "source": [
    "# print(X_train.shape, X_test.shape, y_train.shape, y_test.shape)\n",
    "# # regressor=xgb.XGBRegressor(eval_metric='rmsle')\n",
    "# regressor=xgb.XGBRegressor(eval_metric='rmse')\n",
    "# #=========================================================================\n",
    "# # exhaustively search for the optimal hyperparameters\n",
    "# #=========================================================================\n",
    "# from sklearn.model_selection import GridSearchCV\n",
    "# # set up our search grid\n",
    "# param_grid = {\"max_depth\":    [1, 2, 3, 4, 5, 6],\n",
    "#               \"n_estimators\": [500, 600, 700],\n",
    "#               \"learning_rate\": [0.001, 0.002]}\n",
    "\n",
    "# # try out every combination of the above values\n",
    "# search = GridSearchCV(regressor, param_grid, cv=5).fit(X_train, y_train)\n",
    "\n",
    "# print(\"The best hyperparameters are \",search.best_params_)\n",
    "\n",
    "# regressor=xgb.XGBRegressor(learning_rate = search.best_params_[\"learning_rate\"],\n",
    "#                            n_estimators  = search.best_params_[\"n_estimators\"],\n",
    "#                            max_depth     = search.best_params_[\"max_depth\"],\n",
    "#                            eval_metric='rmse')\n",
    "\n",
    "# regressor.fit(X_train, y_train)\n",
    "# y_pred = regressor.predict(X_test)\n",
    "# rsme = np.sqrt(mean_squared_error(y_test,y_pred))\n",
    "# rsme"
   ]
  },
  {
   "cell_type": "code",
   "execution_count": 220,
   "metadata": {},
   "outputs": [],
   "source": [
    "df_train = pd.read_csv(\"vn_train_timestamp.csv\", parse_dates=[\"event_date\"])\n",
    "df_test = pd.read_csv(\"vn_test_timestamp.csv\", parse_dates=[\"event_date\"])\n"
   ]
  },
  {
   "cell_type": "code",
   "execution_count": null,
   "metadata": {},
   "outputs": [],
   "source": [
    "df_train[\"event_date\"] = df_train[\"event_date\"].apply(lambda x: get_time_stamp(x))\n",
    "df_test[\"event_date\"] = df_test[\"event_date\"].apply(lambda x: get_time_stamp(x))"
   ]
  },
  {
   "cell_type": "code",
   "execution_count": 229,
   "metadata": {},
   "outputs": [],
   "source": [
    "X_train_lon = df_train[\"event_date\"]\n",
    "y_train_lon = df_train[\"longitude\"]\n",
    "X_test_lon = df_test[\"event_date\"]\n",
    "y_test_lon = df_test[\"longitude\"]"
   ]
  },
  {
   "cell_type": "code",
   "execution_count": 230,
   "metadata": {},
   "outputs": [
    {
     "data": {
      "text/plain": [
       "1.3751238716858292"
      ]
     },
     "execution_count": 230,
     "metadata": {},
     "output_type": "execute_result"
    }
   ],
   "source": [
    "regressor_lon= xgb.XGBRegressor( max_depth     = 3,\n",
    "                           n_estimators  = 500,\n",
    "                           learning_rate = 0.01,\n",
    "                           eval_metric='rmse')\n",
    "\n",
    "regressor_lon.fit(X_train_lon, y_train_lon)\n",
    "y_pred_lon = regressor.predict(X_test_lon)\n",
    "rsme_lon = np.sqrt(mean_squared_error(y_test_lon,y_pred_lon))\n",
    "rsme_lon"
   ]
  },
  {
   "cell_type": "code",
   "execution_count": 233,
   "metadata": {},
   "outputs": [],
   "source": [
    "X_train_lat = df_train[\"event_date\"]\n",
    "y_train_lat = df_train[\"latitude\"]\n",
    "X_test_lat = df_test[\"event_date\"]\n",
    "y_test_lat = df_test[\"latitude\"]"
   ]
  },
  {
   "cell_type": "code",
   "execution_count": 235,
   "metadata": {},
   "outputs": [
    {
     "data": {
      "text/plain": [
       "3.2895350794111957"
      ]
     },
     "execution_count": 235,
     "metadata": {},
     "output_type": "execute_result"
    }
   ],
   "source": [
    "regressor_lat=xgb.XGBRegressor( max_depth     = 3,\n",
    "                           n_estimators  = 500,\n",
    "                           learning_rate = 0.01,\n",
    "                           eval_metric='rmse')\n",
    "\n",
    "regressor_lat.fit(X_train_lat, y_train_lat)\n",
    "y_pred_lat = regressor_lat.predict(X_test_lat)\n",
    "rsme_lat = np.sqrt(mean_squared_error(y_test_lat,y_pred_lat))\n",
    "rsme_lat"
   ]
  },
  {
   "cell_type": "code",
   "execution_count": 200,
   "metadata": {},
   "outputs": [],
   "source": [
    "X_train, X_test, y_train, y_test = train_test_split(df[\"event_date\"],df[\"latitude\"], train_size = 0.8, test_size = 0.2, random_state = 0)\n"
   ]
  },
  {
   "cell_type": "code",
   "execution_count": 121,
   "metadata": {},
   "outputs": [
    {
     "name": "stdout",
     "output_type": "stream",
     "text": [
      "(84,) (21,) (84,) (21,)\n",
      "The best hyperparameters are  {'learning_rate': 0.02, 'max_depth': 2, 'n_estimators': 700}\n"
     ]
    },
    {
     "data": {
      "text/plain": [
       "3.1909318193969103"
      ]
     },
     "execution_count": 121,
     "metadata": {},
     "output_type": "execute_result"
    }
   ],
   "source": [
    "print(X_train.shape, X_test.shape, y_train.shape, y_test.shape)\n",
    "# regressor=xgb.XGBRegressor(eval_metric='rmsle')\n",
    "regressor=xgb.XGBRegressor(eval_metric='rmse')\n",
    "#=========================================================================\n",
    "# exhaustively search for the optimal hyperparameters\n",
    "#=========================================================================\n",
    "from sklearn.model_selection import GridSearchCV\n",
    "# set up our search grid\n",
    "param_grid = {\"max_depth\":    [1, 2, 3, 4, 5, 6],\n",
    "              \"n_estimators\": [500, 600, 700],\n",
    "              \"learning_rate\": [0.001, 0.02]}\n",
    "\n",
    "# try out every combination of the above values\n",
    "search = GridSearchCV(regressor, param_grid, cv=5).fit(X_train, y_train)\n",
    "\n",
    "print(\"The best hyperparameters are \",search.best_params_)\n",
    "\n"
   ]
  },
  {
   "cell_type": "code",
   "execution_count": 201,
   "metadata": {},
   "outputs": [
    {
     "data": {
      "text/plain": [
       "3.2895350794111957"
      ]
     },
     "execution_count": 201,
     "metadata": {},
     "output_type": "execute_result"
    }
   ],
   "source": [
    "regressor=xgb.XGBRegressor( max_depth     = 3,\n",
    "                           n_estimators  = 500,\n",
    "                           learning_rate = 0.01,\n",
    "                           eval_metric='rmse')\n",
    "\n",
    "regressor.fit(X_train, y_train)\n",
    "y_pred = regressor.predict(X_test)\n",
    "rsme = np.sqrt(mean_squared_error(y_test,y_pred))\n",
    "rsme"
   ]
  },
  {
   "cell_type": "code",
   "execution_count": 206,
   "metadata": {},
   "outputs": [],
   "source": [
    "df = pd.read_csv(\"data.csv\", parse_dates= [\"event_date\"])"
   ]
  },
  {
   "cell_type": "code",
   "execution_count": 170,
   "metadata": {},
   "outputs": [],
   "source": [
    "df[\"event_date\"] = df[\"event_date\"].apply(lambda x: get_time_stamp(x))"
   ]
  },
  {
   "cell_type": "code",
   "execution_count": null,
   "metadata": {},
   "outputs": [],
   "source": [
    "df"
   ]
  },
  {
   "cell_type": "code",
   "execution_count": 176,
   "metadata": {},
   "outputs": [
    {
     "data": {
      "text/plain": [
       "7476"
      ]
     },
     "execution_count": 176,
     "metadata": {},
     "output_type": "execute_result"
    }
   ],
   "source": [
    "X_train, X_test, y_train, y_test = train_test_split(df[df[\"event_date\"],df[\"longitude\"], train_size = 0.8, test_size = 0.2, random_state = 0)\n",
    "len(X_train)"
   ]
  },
  {
   "cell_type": "code",
   "execution_count": null,
   "metadata": {},
   "outputs": [],
   "source": []
  },
  {
   "cell_type": "code",
   "execution_count": 205,
   "metadata": {},
   "outputs": [
    {
     "name": "stdout",
     "output_type": "stream",
     "text": [
      "<class 'numpy.ndarray'>\n",
      "26     15.598000\n",
      "61     10.676000\n",
      "2      21.316700\n",
      "62     22.453900\n",
      "85     20.893800\n",
      "48     15.330700\n",
      "16     15.330000\n",
      "100     8.774708\n",
      "56     19.943600\n",
      "45     15.207400\n",
      "66     21.841100\n",
      "97     10.505470\n",
      "51     14.831500\n",
      "13     23.166700\n",
      "7      20.566700\n",
      "30     21.642900\n",
      "22      8.831300\n",
      "24     14.518900\n",
      "33     22.118300\n",
      "8      14.992300\n",
      "43     13.311100\n",
      "Name: latitude, dtype: float64\n"
     ]
    }
   ],
   "source": [
    "regressor=xgb.XGBRegressor( max_depth     = 3,\n",
    "                           n_estimators  = 500,\n",
    "                           learning_rate = 0.01,\n",
    "                           eval_metric='rmse')\n",
    "\n",
    "regressor.fit(X_train, y_train)\n",
    "y_pred = regressor.predict(X_test)\n",
    "rsme = np.sqrt(mean_squared_error(y_test,y_pred))\n",
    "rsme\n",
    "print(y_pred)\n",
    "print(y_test)"
   ]
  },
  {
   "cell_type": "markdown",
   "metadata": {},
   "source": [
    "###phase2"
   ]
  },
  {
   "cell_type": "code",
   "execution_count": 87,
   "metadata": {},
   "outputs": [],
   "source": [
    "def preprocessing(df_temp):\n",
    "    dfs = df_temp.copy(deep = True)\n",
    "    dfs.drop(['admin_division_population','population_density_2000', 'population_density_2005', 'population_density_2010', 'population_density_2015','tempmax','tempmin',\"feelslikemax\",\"feelslikemin\"], axis=\"columns\", inplace=True)\n",
    "    ft = dfs.columns.difference([\"landslide_size\"])\n",
    "    category_ft = dfs.select_dtypes(exclude=np.number).columns\n",
    "\n",
    "    enc = OrdinalEncoder()\n",
    "    enc.fit(dfs[category_ft])\n",
    "    dfs[category_ft] = enc.transform(dfs[category_ft])\n",
    "\n",
    "    labelencoder = LabelEncoder()\n",
    "    dfs[\"landslide_size\"] = labelencoder.fit_transform(dfs[\"landslide_size\"])\n",
    "\n",
    "    X = dfs[ft]\n",
    "    y = dfs[\"landslide_size\"]\n",
    "    \n",
    "    X_train, X_test, y_train, y_test = train_test_split(X,y, train_size = 0.8, test_size = 0.2, random_state = 0,stratify = y)\n",
    "    \n",
    "    # Scale features\n",
    "    # scaler = MaxAbsScaler()\n",
    "    # X_train = scaler.fit_transform(X_train)\n",
    "    # X_test = scaler.transform(X_test)\n",
    "    return X_train, X_test, y_train, y_test"
   ]
  },
  {
   "cell_type": "code",
   "execution_count": 88,
   "metadata": {},
   "outputs": [],
   "source": [
    "X_train, X_test, y_train, y_test = preprocessing(df)"
   ]
  },
  {
   "cell_type": "code",
   "execution_count": 95,
   "metadata": {},
   "outputs": [
    {
     "name": "stdout",
     "output_type": "stream",
     "text": [
      "0.8095238095238095 0.655328798185941 0.8095238095238095 0.7243107769423559\n"
     ]
    },
    {
     "name": "stderr",
     "output_type": "stream",
     "text": [
      "c:\\Users\\tqdcr\\AppData\\Local\\Programs\\Python\\Python39\\lib\\site-packages\\sklearn\\metrics\\_classification.py:1471: UndefinedMetricWarning: Precision and F-score are ill-defined and being set to 0.0 in labels with no predicted samples. Use `zero_division` parameter to control this behavior.\n",
      "  _warn_prf(average, modifier, msg_start, len(result))\n"
     ]
    }
   ],
   "source": [
    "xg = xgb.XGBClassifier(n_estimators = 10)\n",
    "xg.fit(X_train,y_train)\n",
    "xg_score=xg.score(X_test,y_test)\n",
    "xg_y_predict=xg.predict(X_test)\n",
    "y_true=y_test\n",
    "xg_precision,xg_recall,xg_fscore,none= precision_recall_fscore_support(y_true, xg_y_predict, average='weighted')\n",
    "print(xg_score,xg_precision,xg_recall,xg_fscore)"
   ]
  },
  {
   "cell_type": "code",
   "execution_count": 98,
   "metadata": {},
   "outputs": [
    {
     "data": {
      "text/plain": [
       "['vn.sav']"
      ]
     },
     "execution_count": 98,
     "metadata": {},
     "output_type": "execute_result"
    }
   ],
   "source": [
    "joblib.dump(xg,\"vn.sav\")"
   ]
  },
  {
   "cell_type": "code",
   "execution_count": null,
   "metadata": {},
   "outputs": [],
   "source": []
  }
 ],
 "metadata": {
  "kernelspec": {
   "display_name": "Python 3",
   "language": "python",
   "name": "python3"
  },
  "language_info": {
   "codemirror_mode": {
    "name": "ipython",
    "version": 3
   },
   "file_extension": ".py",
   "mimetype": "text/x-python",
   "name": "python",
   "nbconvert_exporter": "python",
   "pygments_lexer": "ipython3",
   "version": "3.9.0"
  }
 },
 "nbformat": 4,
 "nbformat_minor": 2
}
