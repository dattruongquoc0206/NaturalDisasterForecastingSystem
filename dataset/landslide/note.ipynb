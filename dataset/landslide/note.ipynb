{
 "cells": [
  {
   "cell_type": "code",
   "execution_count": 7,
   "metadata": {},
   "outputs": [
    {
     "ename": "OptionError",
     "evalue": "'No such option'",
     "output_type": "error",
     "traceback": [
      "\u001b[1;31m---------------------------------------------------------------------------\u001b[0m",
      "\u001b[1;31mKeyError\u001b[0m                                  Traceback (most recent call last)",
      "File \u001b[1;32mc:\\Users\\tqdcr\\AppData\\Local\\Programs\\Python\\Python39\\lib\\site-packages\\pandas\\_config\\config.py:234\u001b[0m, in \u001b[0;36mDictWrapper.__getattr__\u001b[1;34m(self, key)\u001b[0m\n\u001b[0;32m    233\u001b[0m \u001b[38;5;28;01mtry\u001b[39;00m:\n\u001b[1;32m--> 234\u001b[0m     v \u001b[38;5;241m=\u001b[39m \u001b[38;5;28;43mobject\u001b[39;49m\u001b[38;5;241;43m.\u001b[39;49m\u001b[38;5;21;43m__getattribute__\u001b[39;49m\u001b[43m(\u001b[49m\u001b[38;5;28;43mself\u001b[39;49m\u001b[43m,\u001b[49m\u001b[43m \u001b[49m\u001b[38;5;124;43m\"\u001b[39;49m\u001b[38;5;124;43md\u001b[39;49m\u001b[38;5;124;43m\"\u001b[39;49m\u001b[43m)\u001b[49m\u001b[43m[\u001b[49m\u001b[43mkey\u001b[49m\u001b[43m]\u001b[49m\n\u001b[0;32m    235\u001b[0m \u001b[38;5;28;01mexcept\u001b[39;00m \u001b[38;5;167;01mKeyError\u001b[39;00m \u001b[38;5;28;01mas\u001b[39;00m err:\n",
      "\u001b[1;31mKeyError\u001b[0m: 'max_'",
      "\nThe above exception was the direct cause of the following exception:\n",
      "\u001b[1;31mOptionError\u001b[0m                               Traceback (most recent call last)",
      "Cell \u001b[1;32mIn[7], line 4\u001b[0m\n\u001b[0;32m      2\u001b[0m pd\u001b[38;5;241m.\u001b[39moptions\u001b[38;5;241m.\u001b[39mdisplay\u001b[38;5;241m.\u001b[39mmax_columns \u001b[38;5;241m=\u001b[39m \u001b[38;5;28;01mNone\u001b[39;00m\n\u001b[0;32m      3\u001b[0m pd\u001b[38;5;241m.\u001b[39moptions\u001b[38;5;241m.\u001b[39mdisplay\u001b[38;5;241m.\u001b[39mmax_rows \u001b[38;5;241m=\u001b[39m \u001b[38;5;28;01mNone\u001b[39;00m\n\u001b[1;32m----> 4\u001b[0m \u001b[43mpd\u001b[49m\u001b[38;5;241;43m.\u001b[39;49m\u001b[43moptions\u001b[49m\u001b[38;5;241;43m.\u001b[39;49m\u001b[43mdisplay\u001b[49m\u001b[38;5;241;43m.\u001b[39;49m\u001b[43mmax_\u001b[49m\n",
      "File \u001b[1;32mc:\\Users\\tqdcr\\AppData\\Local\\Programs\\Python\\Python39\\lib\\site-packages\\pandas\\_config\\config.py:236\u001b[0m, in \u001b[0;36mDictWrapper.__getattr__\u001b[1;34m(self, key)\u001b[0m\n\u001b[0;32m    234\u001b[0m     v \u001b[38;5;241m=\u001b[39m \u001b[38;5;28mobject\u001b[39m\u001b[38;5;241m.\u001b[39m\u001b[38;5;21m__getattribute__\u001b[39m(\u001b[38;5;28mself\u001b[39m, \u001b[38;5;124m\"\u001b[39m\u001b[38;5;124md\u001b[39m\u001b[38;5;124m\"\u001b[39m)[key]\n\u001b[0;32m    235\u001b[0m \u001b[38;5;28;01mexcept\u001b[39;00m \u001b[38;5;167;01mKeyError\u001b[39;00m \u001b[38;5;28;01mas\u001b[39;00m err:\n\u001b[1;32m--> 236\u001b[0m     \u001b[38;5;28;01mraise\u001b[39;00m OptionError(\u001b[38;5;124m\"\u001b[39m\u001b[38;5;124mNo such option\u001b[39m\u001b[38;5;124m\"\u001b[39m) \u001b[38;5;28;01mfrom\u001b[39;00m \u001b[38;5;21;01merr\u001b[39;00m\n\u001b[0;32m    237\u001b[0m \u001b[38;5;28;01mif\u001b[39;00m \u001b[38;5;28misinstance\u001b[39m(v, \u001b[38;5;28mdict\u001b[39m):\n\u001b[0;32m    238\u001b[0m     \u001b[38;5;28;01mreturn\u001b[39;00m DictWrapper(v, prefix)\n",
      "\u001b[1;31mOptionError\u001b[0m: 'No such option'"
     ]
    }
   ],
   "source": [
    "import pandas as pd\n",
    "pd.options.display.max_columns = None\n",
    "pd.options.display.max_rows = None\n",
    "pd.options.display.max_"
   ]
  },
  {
   "cell_type": "code",
   "execution_count": 3,
   "metadata": {},
   "outputs": [],
   "source": [
    "df = pd.read_csv(\"data.csv\")"
   ]
  },
  {
   "cell_type": "code",
   "execution_count": 4,
   "metadata": {},
   "outputs": [
    {
     "data": {
      "text/plain": [
       "Index(['event_date', 'event_title', 'event_description',\n",
       "       'location_description', 'location_accuracy', 'landslide_category',\n",
       "       'landslide_trigger', 'landslide_size', 'landslide_setting',\n",
       "       'fatality_count', 'injury_count', 'country_name', 'admin_division_name',\n",
       "       'admin_division_population', 'gazeteer_closest_point',\n",
       "       'gazeteer_distance', 'longitude', 'latitude', 'tempmax', 'tempmin',\n",
       "       'temp', 'feelslikemax', 'feelslikemin', 'feelslike', 'dew', 'humidity',\n",
       "       'precip', 'precipcover', 'windgust', 'windspeed', 'winddir', 'pressure',\n",
       "       'cloudcover', 'visibility', 'moonphase', 'conditions', 'stations',\n",
       "       'elevation', 'continent', 'season', 'treecover2000', 'loss', 'gain',\n",
       "       'soil_texture_0', 'soil_texture_10', 'soil_texture_30',\n",
       "       'soil_texture_60', 'soil_texture_100', 'soil_texture_200',\n",
       "       'population_density_2000', 'population_density_2005',\n",
       "       'population_density_2010', 'population_density_2015',\n",
       "       'population_density_2020'],\n",
       "      dtype='object')"
      ]
     },
     "execution_count": 4,
     "metadata": {},
     "output_type": "execute_result"
    }
   ],
   "source": [
    "df.columns"
   ]
  },
  {
   "cell_type": "code",
   "execution_count": 10,
   "metadata": {},
   "outputs": [
    {
     "name": "stdout",
     "output_type": "stream",
     "text": [
      "<class 'pandas.core.frame.DataFrame'>\n",
      "RangeIndex: 9345 entries, 0 to 9344\n",
      "Data columns (total 54 columns):\n",
      " #   Column                     Non-Null Count  Dtype  \n",
      "---  ------                     --------------  -----  \n",
      " 0   event_date                 9345 non-null   object \n",
      " 1   event_title                9345 non-null   object \n",
      " 2   event_description          8560 non-null   object \n",
      " 3   location_description       9345 non-null   object \n",
      " 4   location_accuracy          9345 non-null   object \n",
      " 5   landslide_category         9345 non-null   object \n",
      " 6   landslide_trigger          9345 non-null   object \n",
      " 7   landslide_size             9345 non-null   object \n",
      " 8   landslide_setting          9345 non-null   object \n",
      " 9   fatality_count             9345 non-null   float64\n",
      " 10  injury_count               9345 non-null   float64\n",
      " 11  country_name               9345 non-null   object \n",
      " 12  admin_division_name        9345 non-null   object \n",
      " 13  admin_division_population  9345 non-null   int64  \n",
      " 14  gazeteer_closest_point     9345 non-null   object \n",
      " 15  gazeteer_distance          9345 non-null   float64\n",
      " 16  longitude                  9345 non-null   float64\n",
      " 17  latitude                   9345 non-null   float64\n",
      " 18  tempmax                    9345 non-null   float64\n",
      " 19  tempmin                    9345 non-null   float64\n",
      " 20  temp                       9345 non-null   float64\n",
      " 21  feelslikemax               9345 non-null   float64\n",
      " 22  feelslikemin               9345 non-null   float64\n",
      " 23  feelslike                  9345 non-null   float64\n",
      " 24  dew                        9345 non-null   float64\n",
      " 25  humidity                   9345 non-null   float64\n",
      " 26  precip                     9345 non-null   float64\n",
      " 27  precipcover                9345 non-null   float64\n",
      " 28  windgust                   9345 non-null   float64\n",
      " 29  windspeed                  9345 non-null   float64\n",
      " 30  winddir                    9345 non-null   float64\n",
      " 31  pressure                   9345 non-null   float64\n",
      " 32  cloudcover                 9345 non-null   float64\n",
      " 33  visibility                 9345 non-null   float64\n",
      " 34  moonphase                  9345 non-null   float64\n",
      " 35  conditions                 9345 non-null   object \n",
      " 36  stations                   9345 non-null   object \n",
      " 37  elevation                  9345 non-null   float64\n",
      " 38  continent                  9345 non-null   object \n",
      " 39  season                     9345 non-null   object \n",
      " 40  treecover2000              9345 non-null   int64  \n",
      " 41  loss                       9345 non-null   float64\n",
      " 42  gain                       9345 non-null   int64  \n",
      " 43  soil_texture_0             9345 non-null   object \n",
      " 44  soil_texture_10            9345 non-null   object \n",
      " 45  soil_texture_30            9345 non-null   object \n",
      " 46  soil_texture_60            9345 non-null   object \n",
      " 47  soil_texture_100           9345 non-null   object \n",
      " 48  soil_texture_200           9345 non-null   object \n",
      " 49  population_density_2000    9345 non-null   float64\n",
      " 50  population_density_2005    9345 non-null   float64\n",
      " 51  population_density_2010    9345 non-null   float64\n",
      " 52  population_density_2015    9345 non-null   float64\n",
      " 53  population_density_2020    9345 non-null   float64\n",
      "dtypes: float64(29), int64(3), object(22)\n",
      "memory usage: 3.9+ MB\n"
     ]
    }
   ],
   "source": [
    "df.info()"
   ]
  },
  {
   "cell_type": "code",
   "execution_count": 11,
   "metadata": {},
   "outputs": [
    {
     "data": {
      "text/plain": [
       "treecover2000\n",
       "0      4222\n",
       "100     315\n",
       "85      182\n",
       "89      177\n",
       "95      176\n",
       "90      175\n",
       "97      172\n",
       "12      159\n",
       "45      145\n",
       "98      133\n",
       "96      118\n",
       "78      103\n",
       "6        99\n",
       "47       91\n",
       "99       85\n",
       "87       80\n",
       "76       73\n",
       "2        70\n",
       "55       65\n",
       "70       62\n",
       "3        61\n",
       "64       59\n",
       "37       59\n",
       "20       57\n",
       "86       57\n",
       "94       56\n",
       "74       55\n",
       "4        55\n",
       "71       55\n",
       "72       53\n",
       "27       53\n",
       "79       53\n",
       "91       52\n",
       "56       52\n",
       "1        51\n",
       "83       50\n",
       "82       50\n",
       "22       50\n",
       "60       48\n",
       "58       48\n",
       "59       47\n",
       "32       45\n",
       "62       43\n",
       "14       43\n",
       "92       42\n",
       "75       42\n",
       "93       41\n",
       "39       41\n",
       "51       40\n",
       "63       39\n",
       "5        39\n",
       "15       39\n",
       "67       38\n",
       "18       37\n",
       "21       35\n",
       "10       35\n",
       "54       35\n",
       "28       34\n",
       "66       34\n",
       "16       34\n",
       "52       32\n",
       "17       32\n",
       "29       31\n",
       "8        31\n",
       "31       30\n",
       "9        30\n",
       "81       30\n",
       "24       28\n",
       "26       28\n",
       "44       27\n",
       "49       27\n",
       "13       26\n",
       "7        26\n",
       "48       25\n",
       "73       24\n",
       "11       24\n",
       "77       23\n",
       "68       23\n",
       "19       20\n",
       "61       18\n",
       "25       17\n",
       "46       17\n",
       "33       17\n",
       "30       17\n",
       "80       17\n",
       "53       16\n",
       "36       14\n",
       "41       12\n",
       "43       12\n",
       "69       12\n",
       "35       12\n",
       "34       12\n",
       "23       10\n",
       "88       10\n",
       "40        9\n",
       "84        9\n",
       "38        8\n",
       "50        8\n",
       "57        8\n",
       "65        7\n",
       "42        7\n",
       "Name: count, dtype: int64"
      ]
     },
     "execution_count": 11,
     "metadata": {},
     "output_type": "execute_result"
    }
   ],
   "source": [
    "df[\"treecover2000\"].value_counts().T"
   ]
  },
  {
   "cell_type": "code",
   "execution_count": 36,
   "metadata": {},
   "outputs": [],
   "source": [
    "df[[\"event_date\",\"longitude\",\"latitude\",\"treecover2000\"]].to_csv(\"tree.csv\")"
   ]
  },
  {
   "cell_type": "code",
   "execution_count": 40,
   "metadata": {},
   "outputs": [],
   "source": [
    "df[[\"event_date\",\"longitude\",\"latitude\",\"landslide_size\"]].to_csv(\"landslide_size.csv\")"
   ]
  },
  {
   "cell_type": "code",
   "execution_count": 41,
   "metadata": {},
   "outputs": [
    {
     "data": {
      "text/plain": [
       "landslide_size\n",
       "medium          5368\n",
       "small           2522\n",
       "unknown          783\n",
       "large            589\n",
       "very_large        81\n",
       "catastrophic       2\n",
       "Name: count, dtype: int64"
      ]
     },
     "execution_count": 41,
     "metadata": {},
     "output_type": "execute_result"
    }
   ],
   "source": [
    "df[\"landslide_size\"].value_counts()"
   ]
  },
  {
   "cell_type": "code",
   "execution_count": 46,
   "metadata": {},
   "outputs": [],
   "source": [
    "def label(x):\n",
    "    if x == \"unknown\":\n",
    "        x = 0\n",
    "    elif x == \"small\":\n",
    "        x = 1\n",
    "    elif x == \"medium\":\n",
    "        x = 2\n",
    "    elif x == \"large\":\n",
    "        x = 3\n",
    "    elif x == \"very_large\":\n",
    "        x = 4\n",
    "    else: x = 5\n",
    "\n",
    "    return x"
   ]
  },
  {
   "cell_type": "code",
   "execution_count": 47,
   "metadata": {},
   "outputs": [],
   "source": [
    "df[\"landslide_size\"] = df[\"landslide_size\"].apply(lambda x: label(x))"
   ]
  },
  {
   "cell_type": "code",
   "execution_count": 48,
   "metadata": {},
   "outputs": [
    {
     "data": {
      "text/plain": [
       "landslide_size\n",
       "2    5368\n",
       "1    2522\n",
       "0     783\n",
       "3     589\n",
       "4      81\n",
       "5       2\n",
       "Name: count, dtype: int64"
      ]
     },
     "execution_count": 48,
     "metadata": {},
     "output_type": "execute_result"
    }
   ],
   "source": [
    "df[\"landslide_size\"].value_counts()"
   ]
  },
  {
   "cell_type": "code",
   "execution_count": 49,
   "metadata": {},
   "outputs": [],
   "source": [
    "df[[\"event_date\",\"longitude\",\"latitude\",\"landslide_size\"]].to_csv(\"landslide_size.csv\")"
   ]
  },
  {
   "cell_type": "code",
   "execution_count": null,
   "metadata": {},
   "outputs": [],
   "source": []
  }
 ],
 "metadata": {
  "kernelspec": {
   "display_name": "Python 3",
   "language": "python",
   "name": "python3"
  },
  "language_info": {
   "codemirror_mode": {
    "name": "ipython",
    "version": 3
   },
   "file_extension": ".py",
   "mimetype": "text/x-python",
   "name": "python",
   "nbconvert_exporter": "python",
   "pygments_lexer": "ipython3",
   "version": "3.9.0"
  }
 },
 "nbformat": 4,
 "nbformat_minor": 2
}
